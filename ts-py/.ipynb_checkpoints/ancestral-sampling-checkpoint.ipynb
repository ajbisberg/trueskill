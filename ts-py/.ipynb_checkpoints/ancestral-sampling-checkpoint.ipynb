{
 "cells": [
  {
   "cell_type": "code",
   "execution_count": 8,
   "metadata": {},
   "outputs": [],
   "source": [
    "from scipy.stats import bernoulli\n",
    "import numpy as np\n",
    "from trueskill import Rating, rate_1vs1, global_env, setup\n",
    "from utils import ts_win_probability\n",
    "import matplotlib.pyplot as plt\n",
    "%matplotlib inline"
   ]
  },
  {
   "cell_type": "code",
   "execution_count": 78,
   "metadata": {},
   "outputs": [],
   "source": [
    "# create player pool\n",
    "possible_opponents = np.random.normal(loc=125.0, scale=10.0, size=99)\n",
    "opponents_for_games = np.random.choice(possible_opponents, size=500)\n",
    "game_outcomes = []\n",
    "win_probabilities = []\n",
    "elliot_gt_skill = 110\n",
    "elliot_increment = 10\n",
    "true_elliot_skill = [elliot_gt_skill]\n",
    "for index, opponent in enumerate(opponents_for_games):\n",
    "    if index in [200,300,400]:\n",
    "        elliot_gt_skill += elliot_increment\n",
    "    true_elliot_skill.append(elliot_gt_skill)\n",
    "    \n",
    "    ewins = 0\n",
    "    for i in range(1000):\n",
    "        opponent_perf = np.random.normal(loc=opponent, scale=5.0)\n",
    "        elliot_perf = np.random.normal(loc=elliot_gt_skill, scale=5.0)\n",
    "        if elliot_perf > opponent_perf: ewins += 1\n",
    "    win_probability = float(ewins)/1000\n",
    "\n",
    "    win_probabilities.append(win_probability)\n",
    "    game_outcomes.append(bernoulli.rvs(win_probability))"
   ]
  },
  {
   "cell_type": "code",
   "execution_count": 79,
   "metadata": {},
   "outputs": [
    {
     "data": {
      "text/plain": [
       "0.06"
      ]
     },
     "execution_count": 79,
     "metadata": {},
     "output_type": "execute_result"
    }
   ],
   "source": [
    "sum(game_outcomes[0:200])/200"
   ]
  },
  {
   "cell_type": "code",
   "execution_count": 80,
   "metadata": {},
   "outputs": [
    {
     "data": {
      "text/plain": [
       "0.27"
      ]
     },
     "execution_count": 80,
     "metadata": {},
     "output_type": "execute_result"
    }
   ],
   "source": [
    "sum(game_outcomes[201:300])/100"
   ]
  },
  {
   "cell_type": "code",
   "execution_count": 81,
   "metadata": {},
   "outputs": [
    {
     "data": {
      "text/plain": [
       "0.64"
      ]
     },
     "execution_count": 81,
     "metadata": {},
     "output_type": "execute_result"
    }
   ],
   "source": [
    "sum(game_outcomes[301:400])/100"
   ]
  },
  {
   "cell_type": "code",
   "execution_count": 82,
   "metadata": {},
   "outputs": [
    {
     "data": {
      "text/plain": [
       "0.88"
      ]
     },
     "execution_count": 82,
     "metadata": {},
     "output_type": "execute_result"
    }
   ],
   "source": [
    "sum(game_outcomes[401:500])/100"
   ]
  },
  {
   "cell_type": "code",
   "execution_count": 139,
   "metadata": {},
   "outputs": [
    {
     "data": {
      "text/plain": [
       "trueskill.TrueSkill(mu=125.000, sigma=5.000, beta=2.500, tau=0.050, draw_probability=0.0%)"
      ]
     },
     "execution_count": 139,
     "metadata": {},
     "output_type": "execute_result"
    }
   ],
   "source": [
    "mu = 125\n",
    "sigma = 5\n",
    "beta = sigma/2\n",
    "tau = sigma/100\n",
    "env = setup(mu=mu,sigma=sigma,beta=beta,tau=tau,draw_probability=0)\n",
    "env"
   ]
  },
  {
   "cell_type": "code",
   "execution_count": 138,
   "metadata": {},
   "outputs": [],
   "source": [
    "e_ts_perf = env.create_rating()\n",
    "true_skill_mean = [mu]\n",
    "true_skill_var = [sigma]\n",
    "for index, opponent in enumerate(opponents_for_games):\n",
    "    o_ts_perf = env.create_rating(opponent)\n",
    "    rating_groups = [\n",
    "        {'elliot'   :  e_ts_perf}, \n",
    "        {'opponent' :  o_ts_perf}\n",
    "    ]\n",
    "    ranking = [int(not game_outcomes[index]),game_outcomes[index]]\n",
    "    rated = env.rate(rating_groups, ranks=ranking)\n",
    "    true_skill_mean.append(rated[0]['elliot'].mu)\n",
    "    true_skill_var.append(rated[0]['elliot'].sigma)\n",
    "    e_ts_perf = rated[0]['elliot']\n"
   ]
  },
  {
   "cell_type": "code",
   "execution_count": 137,
   "metadata": {},
   "outputs": [
    {
     "data": {
      "image/png": "[encoded data removed]",
      "text/plain": [
       "<Figure size 432x288 with 1 Axes>"
      ]
     },
     "metadata": {
      "needs_background": "light"
     },
     "output_type": "display_data"
    }
   ],
   "source": [
    "fig, ax = plt.subplots()\n",
    "error_below = np.array(true_skill_mean)-np.array(true_skill_var)\n",
    "error_above = np.array(true_skill_mean)+np.array(true_skill_var)\n",
    "ax.plot(list(range(501)),true_skill_mean)\n",
    "ax.plot(list(range(501)),true_elliot_skill)\n",
    "ax.fill_between(list(range(501)), error_below, error_above, facecolor=(173/256, 216/256, 230/256))\n",
    "ax.spines['right'].set_visible(False)\n",
    "ax.spines['top'].set_visible(False)\n",
    "plt.savefig('ts_synth.png')"
   ]
  },
  {
   "cell_type": "code",
   "execution_count": 140,
   "metadata": {},
   "outputs": [],
   "source": [
    "possible_opponents = np.random.normal(loc=1500.0, scale=(1500.0/12.5), size=99)\n",
    "opponents_for_games = np.random.choice(possible_opponents, size=500)\n",
    "game_outcomes = []\n",
    "win_probabilities = []\n",
    "elliot_gt_skill = 1320.\n",
    "elliot_increment = (1500.0/12.5)\n",
    "true_elliot_skill = [elliot_gt_skill]\n",
    "for index, opponent in enumerate(opponents_for_games):\n",
    "    if index in [200,300,400]:\n",
    "        elliot_gt_skill += elliot_increment\n",
    "    true_elliot_skill.append(elliot_gt_skill)\n",
    "    \n",
    "    ewins = 0\n",
    "    for i in range(1000):\n",
    "        opponent_perf = np.random.normal(loc=opponent, scale=5.0)\n",
    "        elliot_perf = np.random.normal(loc=elliot_gt_skill, scale=5.0)\n",
    "        if elliot_perf > opponent_perf: ewins += 1\n",
    "    win_probability = float(ewins)/1000\n",
    "\n",
    "    win_probabilities.append(win_probability)\n",
    "    game_outcomes.append(bernoulli.rvs(win_probability))"
   ]
  },
  {
   "cell_type": "code",
   "execution_count": 145,
   "metadata": {},
   "outputs": [],
   "source": [
    "from model_params import mov_exp, mov_lin\n",
    "from models import DynamicElo"
   ]
  },
  {
   "cell_type": "code",
   "execution_count": 146,
   "metadata": {},
   "outputs": [],
   "source": [
    "base_k = 30\n",
    "cutoff = 1650\n",
    "reduction = 0.75\n",
    "mov = mov_lin\n",
    "w90 = 200\n",
    "elo = DynamicElo(base_k, cutoff, reduction, mov, w90)"
   ]
  },
  {
   "cell_type": "code",
   "execution_count": 152,
   "metadata": {},
   "outputs": [
    {
     "ename": "SyntaxError",
     "evalue": "invalid syntax (<ipython-input-152-bd87991db604>, line 4)",
     "output_type": "error",
     "traceback": [
      "\u001b[0;36m  File \u001b[0;32m\"<ipython-input-152-bd87991db604>\"\u001b[0;36m, line \u001b[0;32m4\u001b[0m\n\u001b[0;31m    game_outcomes[index] == 1:\u001b[0m\n\u001b[0m                              ^\u001b[0m\n\u001b[0;31mSyntaxError\u001b[0m\u001b[0;31m:\u001b[0m invalid syntax\n"
     ]
    }
   ],
   "source": [
    "elliot_start = 1500.\n",
    "for index, opponent in enumerate(opponents_for_games):\n",
    "    print(elliot_start,opponent)\n",
    "    game_outcomes[index] == 1:\n",
    "        pass  "
   ]
  },
  {
   "cell_type": "code",
   "execution_count": null,
   "metadata": {},
   "outputs": [],
   "source": []
  }
 ],
 "metadata": {
  "kernelspec": {
   "display_name": "Python 3",
   "language": "python",
   "name": "python3"
  },
  "language_info": {
   "codemirror_mode": {
    "name": "ipython",
    "version": 3
   },
   "file_extension": ".py",
   "mimetype": "text/x-python",
   "name": "python",
   "nbconvert_exporter": "python",
   "pygments_lexer": "ipython3",
   "version": "3.7.0"
  }
 },
 "nbformat": 4,
 "nbformat_minor": 2
}
